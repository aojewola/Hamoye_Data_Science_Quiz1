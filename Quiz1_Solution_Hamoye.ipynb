{
 "cells": [
  {
   "cell_type": "markdown",
   "metadata": {},
   "source": [
    "##### importing the needed libraries"
   ]
  },
  {
   "cell_type": "code",
   "execution_count": 2,
   "metadata": {},
   "outputs": [],
   "source": [
    "import numpy as np\n",
    "import pandas as pd\n",
    "import matplotlib.pyplot as plt\n",
    "import seaborn as sns\n",
    "import time "
   ]
  },
  {
   "cell_type": "markdown",
   "metadata": {},
   "source": [
    "##### To load the data from the online url"
   ]
  },
  {
   "cell_type": "code",
   "execution_count": 297,
   "metadata": {},
   "outputs": [],
   "source": [
    "url = \"https://raw.githubusercontent.com/WalePhenomenon/climate_change/master/fuel_ferc1.csv\"\n",
    "fuel_data = pd.read_csv(url, error_bad_lines=False)"
   ]
  },
  {
   "cell_type": "markdown",
   "metadata": {},
   "source": [
    "##### To download and save the data to my local computer to be able to access it offline"
   ]
  },
  {
   "cell_type": "code",
   "execution_count": 5,
   "metadata": {},
   "outputs": [],
   "source": [
    "fuel_data.to_csv(\"fuel_data.csv\", index=False)"
   ]
  },
  {
   "cell_type": "markdown",
   "metadata": {},
   "source": [
    "##### To check for any duplicate in the loaded fuel_data\n"
   ]
  },
  {
   "cell_type": "code",
   "execution_count": 8,
   "metadata": {},
   "outputs": [
    {
     "data": {
      "text/plain": [
       "False"
      ]
     },
     "execution_count": 8,
     "metadata": {},
     "output_type": "execute_result"
    }
   ],
   "source": [
    "fuel_data.duplicated().any() ##False means no deplicate"
   ]
  },
  {
   "cell_type": "markdown",
   "metadata": {},
   "source": [
    "##### To load the first 10 rows of the fuel_data"
   ]
  },
  {
   "cell_type": "code",
   "execution_count": 11,
   "metadata": {},
   "outputs": [
    {
     "data": {
      "text/html": [
       "<div>\n",
       "<style scoped>\n",
       "    .dataframe tbody tr th:only-of-type {\n",
       "        vertical-align: middle;\n",
       "    }\n",
       "\n",
       "    .dataframe tbody tr th {\n",
       "        vertical-align: top;\n",
       "    }\n",
       "\n",
       "    .dataframe thead th {\n",
       "        text-align: right;\n",
       "    }\n",
       "</style>\n",
       "<table border=\"1\" class=\"dataframe\">\n",
       "  <thead>\n",
       "    <tr style=\"text-align: right;\">\n",
       "      <th></th>\n",
       "      <th>record_id</th>\n",
       "      <th>utility_id_ferc1</th>\n",
       "      <th>report_year</th>\n",
       "      <th>plant_name_ferc1</th>\n",
       "      <th>fuel_type_code_pudl</th>\n",
       "      <th>fuel_unit</th>\n",
       "      <th>fuel_qty_burned</th>\n",
       "      <th>fuel_mmbtu_per_unit</th>\n",
       "      <th>fuel_cost_per_unit_burned</th>\n",
       "      <th>fuel_cost_per_unit_delivered</th>\n",
       "      <th>fuel_cost_per_mmbtu</th>\n",
       "    </tr>\n",
       "  </thead>\n",
       "  <tbody>\n",
       "    <tr>\n",
       "      <th>0</th>\n",
       "      <td>f1_fuel_1994_12_1_0_7</td>\n",
       "      <td>1</td>\n",
       "      <td>1994</td>\n",
       "      <td>rockport</td>\n",
       "      <td>coal</td>\n",
       "      <td>ton</td>\n",
       "      <td>5377489.0</td>\n",
       "      <td>16.590000</td>\n",
       "      <td>18.59</td>\n",
       "      <td>18.53</td>\n",
       "      <td>1.121</td>\n",
       "    </tr>\n",
       "    <tr>\n",
       "      <th>1</th>\n",
       "      <td>f1_fuel_1994_12_1_0_10</td>\n",
       "      <td>1</td>\n",
       "      <td>1994</td>\n",
       "      <td>rockport total plant</td>\n",
       "      <td>coal</td>\n",
       "      <td>ton</td>\n",
       "      <td>10486945.0</td>\n",
       "      <td>16.592000</td>\n",
       "      <td>18.58</td>\n",
       "      <td>18.53</td>\n",
       "      <td>1.120</td>\n",
       "    </tr>\n",
       "    <tr>\n",
       "      <th>2</th>\n",
       "      <td>f1_fuel_1994_12_2_0_1</td>\n",
       "      <td>2</td>\n",
       "      <td>1994</td>\n",
       "      <td>gorgas</td>\n",
       "      <td>coal</td>\n",
       "      <td>ton</td>\n",
       "      <td>2978683.0</td>\n",
       "      <td>24.130000</td>\n",
       "      <td>39.72</td>\n",
       "      <td>38.12</td>\n",
       "      <td>1.650</td>\n",
       "    </tr>\n",
       "    <tr>\n",
       "      <th>3</th>\n",
       "      <td>f1_fuel_1994_12_2_0_7</td>\n",
       "      <td>2</td>\n",
       "      <td>1994</td>\n",
       "      <td>barry</td>\n",
       "      <td>coal</td>\n",
       "      <td>ton</td>\n",
       "      <td>3739484.0</td>\n",
       "      <td>23.950000</td>\n",
       "      <td>47.21</td>\n",
       "      <td>45.99</td>\n",
       "      <td>1.970</td>\n",
       "    </tr>\n",
       "    <tr>\n",
       "      <th>4</th>\n",
       "      <td>f1_fuel_1994_12_2_0_10</td>\n",
       "      <td>2</td>\n",
       "      <td>1994</td>\n",
       "      <td>chickasaw</td>\n",
       "      <td>gas</td>\n",
       "      <td>mcf</td>\n",
       "      <td>40533.0</td>\n",
       "      <td>1.000000</td>\n",
       "      <td>2.77</td>\n",
       "      <td>2.77</td>\n",
       "      <td>2.570</td>\n",
       "    </tr>\n",
       "    <tr>\n",
       "      <th>5</th>\n",
       "      <td>f1_fuel_1994_12_2_0_13</td>\n",
       "      <td>2</td>\n",
       "      <td>1994</td>\n",
       "      <td>e. c. gaston-unit 5</td>\n",
       "      <td>coal</td>\n",
       "      <td>ton</td>\n",
       "      <td>2124933.0</td>\n",
       "      <td>23.922000</td>\n",
       "      <td>44.24</td>\n",
       "      <td>43.25</td>\n",
       "      <td>1.850</td>\n",
       "    </tr>\n",
       "    <tr>\n",
       "      <th>6</th>\n",
       "      <td>f1_fuel_1994_12_2_1_1</td>\n",
       "      <td>2</td>\n",
       "      <td>1994</td>\n",
       "      <td>joseph m. farley</td>\n",
       "      <td>nuclear</td>\n",
       "      <td>kgU</td>\n",
       "      <td>2260.0</td>\n",
       "      <td>0.064094</td>\n",
       "      <td>28.77</td>\n",
       "      <td>0.00</td>\n",
       "      <td>0.450</td>\n",
       "    </tr>\n",
       "    <tr>\n",
       "      <th>7</th>\n",
       "      <td>f1_fuel_1994_12_2_1_10</td>\n",
       "      <td>2</td>\n",
       "      <td>1994</td>\n",
       "      <td>resondent's portion</td>\n",
       "      <td>coal</td>\n",
       "      <td>ton</td>\n",
       "      <td>5372133.0</td>\n",
       "      <td>24.840000</td>\n",
       "      <td>58.54</td>\n",
       "      <td>55.13</td>\n",
       "      <td>2.360</td>\n",
       "    </tr>\n",
       "    <tr>\n",
       "      <th>8</th>\n",
       "      <td>f1_fuel_1994_12_2_2_10</td>\n",
       "      <td>2</td>\n",
       "      <td>1994</td>\n",
       "      <td>respondent's portion</td>\n",
       "      <td>coal</td>\n",
       "      <td>ton</td>\n",
       "      <td>817520.0</td>\n",
       "      <td>24.290000</td>\n",
       "      <td>33.97</td>\n",
       "      <td>34.65</td>\n",
       "      <td>1.400</td>\n",
       "    </tr>\n",
       "    <tr>\n",
       "      <th>9</th>\n",
       "      <td>f1_fuel_1994_12_4_0_1</td>\n",
       "      <td>4</td>\n",
       "      <td>1994</td>\n",
       "      <td>units 1-3</td>\n",
       "      <td>coal</td>\n",
       "      <td>ton</td>\n",
       "      <td>1471233.0</td>\n",
       "      <td>22.484000</td>\n",
       "      <td>28.73</td>\n",
       "      <td>28.11</td>\n",
       "      <td>1.278</td>\n",
       "    </tr>\n",
       "  </tbody>\n",
       "</table>\n",
       "</div>"
      ],
      "text/plain": [
       "                record_id  utility_id_ferc1  report_year  \\\n",
       "0   f1_fuel_1994_12_1_0_7                 1         1994   \n",
       "1  f1_fuel_1994_12_1_0_10                 1         1994   \n",
       "2   f1_fuel_1994_12_2_0_1                 2         1994   \n",
       "3   f1_fuel_1994_12_2_0_7                 2         1994   \n",
       "4  f1_fuel_1994_12_2_0_10                 2         1994   \n",
       "5  f1_fuel_1994_12_2_0_13                 2         1994   \n",
       "6   f1_fuel_1994_12_2_1_1                 2         1994   \n",
       "7  f1_fuel_1994_12_2_1_10                 2         1994   \n",
       "8  f1_fuel_1994_12_2_2_10                 2         1994   \n",
       "9   f1_fuel_1994_12_4_0_1                 4         1994   \n",
       "\n",
       "       plant_name_ferc1 fuel_type_code_pudl fuel_unit  fuel_qty_burned  \\\n",
       "0              rockport                coal       ton        5377489.0   \n",
       "1  rockport total plant                coal       ton       10486945.0   \n",
       "2                gorgas                coal       ton        2978683.0   \n",
       "3                 barry                coal       ton        3739484.0   \n",
       "4             chickasaw                 gas       mcf          40533.0   \n",
       "5   e. c. gaston-unit 5                coal       ton        2124933.0   \n",
       "6      joseph m. farley             nuclear       kgU           2260.0   \n",
       "7   resondent's portion                coal       ton        5372133.0   \n",
       "8  respondent's portion                coal       ton         817520.0   \n",
       "9             units 1-3                coal       ton        1471233.0   \n",
       "\n",
       "   fuel_mmbtu_per_unit  fuel_cost_per_unit_burned  \\\n",
       "0            16.590000                      18.59   \n",
       "1            16.592000                      18.58   \n",
       "2            24.130000                      39.72   \n",
       "3            23.950000                      47.21   \n",
       "4             1.000000                       2.77   \n",
       "5            23.922000                      44.24   \n",
       "6             0.064094                      28.77   \n",
       "7            24.840000                      58.54   \n",
       "8            24.290000                      33.97   \n",
       "9            22.484000                      28.73   \n",
       "\n",
       "   fuel_cost_per_unit_delivered  fuel_cost_per_mmbtu  \n",
       "0                         18.53                1.121  \n",
       "1                         18.53                1.120  \n",
       "2                         38.12                1.650  \n",
       "3                         45.99                1.970  \n",
       "4                          2.77                2.570  \n",
       "5                         43.25                1.850  \n",
       "6                          0.00                0.450  \n",
       "7                         55.13                2.360  \n",
       "8                         34.65                1.400  \n",
       "9                         28.11                1.278  "
      ]
     },
     "execution_count": 11,
     "metadata": {},
     "output_type": "execute_result"
    }
   ],
   "source": [
    "fuel_data.head(10)"
   ]
  },
  {
   "cell_type": "markdown",
   "metadata": {},
   "source": [
    "##### To randomly select and view 10 rows of the dataset"
   ]
  },
  {
   "cell_type": "code",
   "execution_count": 108,
   "metadata": {},
   "outputs": [
    {
     "data": {
      "text/html": [
       "<div>\n",
       "<style scoped>\n",
       "    .dataframe tbody tr th:only-of-type {\n",
       "        vertical-align: middle;\n",
       "    }\n",
       "\n",
       "    .dataframe tbody tr th {\n",
       "        vertical-align: top;\n",
       "    }\n",
       "\n",
       "    .dataframe thead th {\n",
       "        text-align: right;\n",
       "    }\n",
       "</style>\n",
       "<table border=\"1\" class=\"dataframe\">\n",
       "  <thead>\n",
       "    <tr style=\"text-align: right;\">\n",
       "      <th></th>\n",
       "      <th>record_id</th>\n",
       "      <th>utility_id_ferc1</th>\n",
       "      <th>report_year</th>\n",
       "      <th>plant_name_ferc1</th>\n",
       "      <th>fuel_type_code_pudl</th>\n",
       "      <th>fuel_unit</th>\n",
       "      <th>fuel_qty_burned</th>\n",
       "      <th>fuel_mmbtu_per_unit</th>\n",
       "      <th>fuel_cost_per_unit_burned</th>\n",
       "      <th>fuel_cost_per_unit_delivered</th>\n",
       "      <th>fuel_cost_per_mmbtu</th>\n",
       "    </tr>\n",
       "  </thead>\n",
       "  <tbody>\n",
       "    <tr>\n",
       "      <th>11345</th>\n",
       "      <td>f1_fuel_2003_12_127_0_10</td>\n",
       "      <td>127</td>\n",
       "      <td>2003</td>\n",
       "      <td>sporn-total</td>\n",
       "      <td>coal</td>\n",
       "      <td>ton</td>\n",
       "      <td>2562804.0</td>\n",
       "      <td>23.630000</td>\n",
       "      <td>28.442</td>\n",
       "      <td>28.289</td>\n",
       "      <td>1.204</td>\n",
       "    </tr>\n",
       "    <tr>\n",
       "      <th>24926</th>\n",
       "      <td>f1_fuel_2014_12_42_3_13</td>\n",
       "      <td>42</td>\n",
       "      <td>2014</td>\n",
       "      <td>conesville</td>\n",
       "      <td>coal</td>\n",
       "      <td>ton</td>\n",
       "      <td>294670.0</td>\n",
       "      <td>23.508000</td>\n",
       "      <td>81.357</td>\n",
       "      <td>81.606</td>\n",
       "      <td>3.461</td>\n",
       "    </tr>\n",
       "    <tr>\n",
       "      <th>1756</th>\n",
       "      <td>f1_fuel_1995_12_43_0_8</td>\n",
       "      <td>43</td>\n",
       "      <td>1995</td>\n",
       "      <td>edge moor 3 &amp; 4</td>\n",
       "      <td>gas</td>\n",
       "      <td>mcf</td>\n",
       "      <td>445039.0</td>\n",
       "      <td>1.029000</td>\n",
       "      <td>1.940</td>\n",
       "      <td>0.000</td>\n",
       "      <td>1.730</td>\n",
       "    </tr>\n",
       "    <tr>\n",
       "      <th>20343</th>\n",
       "      <td>f1_fuel_2010_12_150_0_13</td>\n",
       "      <td>150</td>\n",
       "      <td>2010</td>\n",
       "      <td>goldendale</td>\n",
       "      <td>gas</td>\n",
       "      <td>mcf</td>\n",
       "      <td>10405673.0</td>\n",
       "      <td>1.036000</td>\n",
       "      <td>7.740</td>\n",
       "      <td>7.740</td>\n",
       "      <td>7.470</td>\n",
       "    </tr>\n",
       "    <tr>\n",
       "      <th>7867</th>\n",
       "      <td>f1_fuel_2000_12_10_0_5</td>\n",
       "      <td>10</td>\n",
       "      <td>2000</td>\n",
       "      <td>brandon shores</td>\n",
       "      <td>oil</td>\n",
       "      <td>bbl</td>\n",
       "      <td>21004.0</td>\n",
       "      <td>5.834724</td>\n",
       "      <td>52.920</td>\n",
       "      <td>34.440</td>\n",
       "      <td>9.070</td>\n",
       "    </tr>\n",
       "    <tr>\n",
       "      <th>17214</th>\n",
       "      <td>f1_fuel_2008_12_194_4_4</td>\n",
       "      <td>194</td>\n",
       "      <td>2008</td>\n",
       "      <td>rock river unit 4</td>\n",
       "      <td>gas</td>\n",
       "      <td>mcf</td>\n",
       "      <td>2067.0</td>\n",
       "      <td>1.020469</td>\n",
       "      <td>27.750</td>\n",
       "      <td>27.750</td>\n",
       "      <td>27.197</td>\n",
       "    </tr>\n",
       "    <tr>\n",
       "      <th>2633</th>\n",
       "      <td>f1_fuel_1996_12_186_3_10</td>\n",
       "      <td>186</td>\n",
       "      <td>1996</td>\n",
       "      <td>surry</td>\n",
       "      <td>nuclear</td>\n",
       "      <td>gramsU</td>\n",
       "      <td>1252681.0</td>\n",
       "      <td>0.112190</td>\n",
       "      <td>47.360</td>\n",
       "      <td>26.710</td>\n",
       "      <td>0.422</td>\n",
       "    </tr>\n",
       "    <tr>\n",
       "      <th>28242</th>\n",
       "      <td>f1_fuel_2017_12_195_3_4</td>\n",
       "      <td>195</td>\n",
       "      <td>2017</td>\n",
       "      <td>w marinette m31, m32</td>\n",
       "      <td>oil</td>\n",
       "      <td>bbl</td>\n",
       "      <td>15.0</td>\n",
       "      <td>5.796000</td>\n",
       "      <td>72.230</td>\n",
       "      <td>0.000</td>\n",
       "      <td>12.460</td>\n",
       "    </tr>\n",
       "    <tr>\n",
       "      <th>27853</th>\n",
       "      <td>f1_fuel_2017_12_95_1_4</td>\n",
       "      <td>95</td>\n",
       "      <td>2017</td>\n",
       "      <td>coyote</td>\n",
       "      <td>coal</td>\n",
       "      <td>ton</td>\n",
       "      <td>535514.0</td>\n",
       "      <td>13.878000</td>\n",
       "      <td>27.570</td>\n",
       "      <td>27.743</td>\n",
       "      <td>1.987</td>\n",
       "    </tr>\n",
       "    <tr>\n",
       "      <th>20256</th>\n",
       "      <td>f1_fuel_2010_12_159_2_9</td>\n",
       "      <td>159</td>\n",
       "      <td>2010</td>\n",
       "      <td>hagood combined</td>\n",
       "      <td>oil</td>\n",
       "      <td>bbl</td>\n",
       "      <td>12540.0</td>\n",
       "      <td>5.796000</td>\n",
       "      <td>86.999</td>\n",
       "      <td>102.760</td>\n",
       "      <td>15.010</td>\n",
       "    </tr>\n",
       "  </tbody>\n",
       "</table>\n",
       "</div>"
      ],
      "text/plain": [
       "                      record_id  utility_id_ferc1  report_year  \\\n",
       "11345  f1_fuel_2003_12_127_0_10               127         2003   \n",
       "24926   f1_fuel_2014_12_42_3_13                42         2014   \n",
       "1756     f1_fuel_1995_12_43_0_8                43         1995   \n",
       "20343  f1_fuel_2010_12_150_0_13               150         2010   \n",
       "7867     f1_fuel_2000_12_10_0_5                10         2000   \n",
       "17214   f1_fuel_2008_12_194_4_4               194         2008   \n",
       "2633   f1_fuel_1996_12_186_3_10               186         1996   \n",
       "28242   f1_fuel_2017_12_195_3_4               195         2017   \n",
       "27853    f1_fuel_2017_12_95_1_4                95         2017   \n",
       "20256   f1_fuel_2010_12_159_2_9               159         2010   \n",
       "\n",
       "           plant_name_ferc1 fuel_type_code_pudl fuel_unit  fuel_qty_burned  \\\n",
       "11345           sporn-total                coal       ton        2562804.0   \n",
       "24926            conesville                coal       ton         294670.0   \n",
       "1756        edge moor 3 & 4                 gas       mcf         445039.0   \n",
       "20343            goldendale                 gas       mcf       10405673.0   \n",
       "7867         brandon shores                 oil       bbl          21004.0   \n",
       "17214     rock river unit 4                 gas       mcf           2067.0   \n",
       "2633                  surry             nuclear    gramsU        1252681.0   \n",
       "28242  w marinette m31, m32                 oil       bbl             15.0   \n",
       "27853                coyote                coal       ton         535514.0   \n",
       "20256       hagood combined                 oil       bbl          12540.0   \n",
       "\n",
       "       fuel_mmbtu_per_unit  fuel_cost_per_unit_burned  \\\n",
       "11345            23.630000                     28.442   \n",
       "24926            23.508000                     81.357   \n",
       "1756              1.029000                      1.940   \n",
       "20343             1.036000                      7.740   \n",
       "7867              5.834724                     52.920   \n",
       "17214             1.020469                     27.750   \n",
       "2633              0.112190                     47.360   \n",
       "28242             5.796000                     72.230   \n",
       "27853            13.878000                     27.570   \n",
       "20256             5.796000                     86.999   \n",
       "\n",
       "       fuel_cost_per_unit_delivered  fuel_cost_per_mmbtu  \n",
       "11345                        28.289                1.204  \n",
       "24926                        81.606                3.461  \n",
       "1756                          0.000                1.730  \n",
       "20343                         7.740                7.470  \n",
       "7867                         34.440                9.070  \n",
       "17214                        27.750               27.197  \n",
       "2633                         26.710                0.422  \n",
       "28242                         0.000               12.460  \n",
       "27853                        27.743                1.987  \n",
       "20256                       102.760               15.010  "
      ]
     },
     "execution_count": 108,
     "metadata": {},
     "output_type": "execute_result"
    }
   ],
   "source": [
    "fuel_data.sample(10)"
   ]
  },
  {
   "cell_type": "markdown",
   "metadata": {},
   "source": [
    "##### To check for the number of rows and columns in the data"
   ]
  },
  {
   "cell_type": "code",
   "execution_count": 107,
   "metadata": {},
   "outputs": [
    {
     "name": "stdout",
     "output_type": "stream",
     "text": [
      "The fuel_data contains 29523 rows and 11 columns\n"
     ]
    }
   ],
   "source": [
    "rows, columns = fuel_data.shape\n",
    "print(\"The fuel_data contains\", rows, \"rows and\", columns, \"columns\")"
   ]
  },
  {
   "cell_type": "markdown",
   "metadata": {},
   "source": [
    "##### To see the 11 feature names in the fuel_data"
   ]
  },
  {
   "cell_type": "code",
   "execution_count": 14,
   "metadata": {},
   "outputs": [
    {
     "data": {
      "text/plain": [
       "Index(['record_id', 'utility_id_ferc1', 'report_year', 'plant_name_ferc1',\n",
       "       'fuel_type_code_pudl', 'fuel_unit', 'fuel_qty_burned',\n",
       "       'fuel_mmbtu_per_unit', 'fuel_cost_per_unit_burned',\n",
       "       'fuel_cost_per_unit_delivered', 'fuel_cost_per_mmbtu'],\n",
       "      dtype='object')"
      ]
     },
     "execution_count": 14,
     "metadata": {},
     "output_type": "execute_result"
    }
   ],
   "source": [
    "fuel_data.columns"
   ]
  },
  {
   "cell_type": "markdown",
   "metadata": {},
   "source": [
    "##### To check for features with non-null value in the dataset and the feature type"
   ]
  },
  {
   "cell_type": "code",
   "execution_count": 29,
   "metadata": {
    "scrolled": true
   },
   "outputs": [
    {
     "name": "stdout",
     "output_type": "stream",
     "text": [
      "<class 'pandas.core.frame.DataFrame'>\n",
      "RangeIndex: 29523 entries, 0 to 29522\n",
      "Data columns (total 11 columns):\n",
      "record_id                       29523 non-null object\n",
      "utility_id_ferc1                29523 non-null int64\n",
      "report_year                     29523 non-null int64\n",
      "plant_name_ferc1                29523 non-null object\n",
      "fuel_type_code_pudl             29523 non-null object\n",
      "fuel_unit                       29343 non-null object\n",
      "fuel_qty_burned                 29523 non-null float64\n",
      "fuel_mmbtu_per_unit             29523 non-null float64\n",
      "fuel_cost_per_unit_burned       29523 non-null float64\n",
      "fuel_cost_per_unit_delivered    29523 non-null float64\n",
      "fuel_cost_per_mmbtu             29523 non-null float64\n",
      "dtypes: float64(5), int64(2), object(4)\n",
      "memory usage: 2.5+ MB\n"
     ]
    }
   ],
   "source": [
    "fuel_data.info()"
   ]
  },
  {
   "cell_type": "markdown",
   "metadata": {},
   "source": [
    "##### from the above cell, it shows that we have 4 categorical features and 7 numerical featurs\n",
    "##### I listed the features out in the code below"
   ]
  },
  {
   "cell_type": "code",
   "execution_count": 110,
   "metadata": {},
   "outputs": [
    {
     "name": "stdout",
     "output_type": "stream",
     "text": [
      "Fuel_data categorical features ['record_id', 'plant_name_ferc1', 'fuel_type_code_pudl', 'fuel_unit']\n",
      "Fuel_data numerical features ['utility_id_ferc1', 'report_year', 'fuel_qty_burned', 'fuel_mmbtu_per_unit', 'fuel_cost_per_unit_burned', 'fuel_cost_per_unit_delivered', 'fuel_cost_per_mmbtu']\n"
     ]
    }
   ],
   "source": [
    "categorical_feature = fuel_data.select_dtypes(include='object').columns.to_list()\n",
    "print(\"Fuel_data categorical features\", categorical_feature)\n",
    "\n",
    "numerical_feature = fuel_data.select_dtypes(include='number').columns.to_list()\n",
    "print(\"Fuel_data numerical features\", numerical_feature)"
   ]
  },
  {
   "cell_type": "markdown",
   "metadata": {},
   "source": [
    "##### To check for the number of null value in the features"
   ]
  },
  {
   "cell_type": "code",
   "execution_count": 162,
   "metadata": {},
   "outputs": [
    {
     "data": {
      "text/plain": [
       "record_id                         0\n",
       "utility_id_ferc1                  0\n",
       "report_year                       0\n",
       "plant_name_ferc1                  0\n",
       "fuel_type_code_pudl               0\n",
       "fuel_unit                       180\n",
       "fuel_qty_burned                   0\n",
       "fuel_mmbtu_per_unit               0\n",
       "fuel_cost_per_unit_burned         0\n",
       "fuel_cost_per_unit_delivered      0\n",
       "fuel_cost_per_mmbtu               0\n",
       "dtype: int64"
      ]
     },
     "execution_count": 162,
     "metadata": {},
     "output_type": "execute_result"
    }
   ],
   "source": [
    "fuel_data.isnull().sum()"
   ]
  },
  {
   "cell_type": "markdown",
   "metadata": {},
   "source": [
    "##### To calculate the percentage of the null value in the fuel_data\n",
    "#### 0.61% of the fuel_unit feature data points is missing, we can see that it is small compare to the total count for fuel_unit data points"
   ]
  },
  {
   "cell_type": "code",
   "execution_count": 79,
   "metadata": {},
   "outputs": [
    {
     "data": {
      "text/plain": [
       "record_id                       0.000000\n",
       "utility_id_ferc1                0.000000\n",
       "report_year                     0.000000\n",
       "plant_name_ferc1                0.000000\n",
       "fuel_type_code_pudl             0.000000\n",
       "fuel_unit                       0.609694\n",
       "fuel_qty_burned                 0.000000\n",
       "fuel_mmbtu_per_unit             0.000000\n",
       "fuel_cost_per_unit_burned       0.000000\n",
       "fuel_cost_per_unit_delivered    0.000000\n",
       "fuel_cost_per_mmbtu             0.000000\n",
       "dtype: float64"
      ]
     },
     "execution_count": 79,
     "metadata": {},
     "output_type": "execute_result"
    }
   ],
   "source": [
    "percentage_missing = fuel_data.isnull().mean()\n",
    "percent_missing "
   ]
  },
  {
   "cell_type": "markdown",
   "metadata": {},
   "source": [
    "##### Visualization: To fill the missing data in the fuel_unit\n",
    "##### An histogram to visualize the data points distribution"
   ]
  },
  {
   "cell_type": "code",
   "execution_count": 302,
   "metadata": {},
   "outputs": [
    {
     "data": {
      "text/plain": [
       "<matplotlib.axes._subplots.AxesSubplot at 0x1895754aa20>"
      ]
     },
     "execution_count": 302,
     "metadata": {},
     "output_type": "execute_result"
    },
    {
     "data": {
      "image/png": "[encoded data removed]",
      "text/plain": [
       "<Figure size 432x288 with 1 Axes>"
      ]
     },
     "metadata": {
      "needs_background": "light"
     },
     "output_type": "display_data"
    }
   ],
   "source": [
    "fuel_data.fuel_unit.hist() ## from the hist, it can be seen that the mode is mcf"
   ]
  },
  {
   "cell_type": "code",
   "execution_count": 141,
   "metadata": {},
   "outputs": [
    {
     "data": {
      "text/plain": [
       "<matplotlib.axes._subplots.AxesSubplot at 0x18920294d30>"
      ]
     },
     "execution_count": 141,
     "metadata": {},
     "output_type": "execute_result"
    },
    {
     "data": {
      "image/png": "[encoded data removed]",
      "text/plain": [
       "<Figure size 432x288 with 1 Axes>"
      ]
     },
     "metadata": {
      "needs_background": "light"
     },
     "output_type": "display_data"
    }
   ],
   "source": [
    "sns.countplot(fuel_data.fuel_unit)"
   ]
  },
  {
   "cell_type": "markdown",
   "metadata": {},
   "source": [
    "##### Filling the fuel_unit null values with the mode of the fuel_unit data points"
   ]
  },
  {
   "cell_type": "code",
   "execution_count": 160,
   "metadata": {},
   "outputs": [
    {
     "data": {
      "text/html": [
       "<div>\n",
       "<style scoped>\n",
       "    .dataframe tbody tr th:only-of-type {\n",
       "        vertical-align: middle;\n",
       "    }\n",
       "\n",
       "    .dataframe tbody tr th {\n",
       "        vertical-align: top;\n",
       "    }\n",
       "\n",
       "    .dataframe thead th {\n",
       "        text-align: right;\n",
       "    }\n",
       "</style>\n",
       "<table border=\"1\" class=\"dataframe\">\n",
       "  <thead>\n",
       "    <tr style=\"text-align: right;\">\n",
       "      <th></th>\n",
       "      <th>fuel_unit</th>\n",
       "    </tr>\n",
       "    <tr>\n",
       "      <th>fuel_type_code_pudl</th>\n",
       "      <th></th>\n",
       "    </tr>\n",
       "  </thead>\n",
       "  <tbody>\n",
       "    <tr>\n",
       "      <th>coal</th>\n",
       "      <td>ton</td>\n",
       "    </tr>\n",
       "    <tr>\n",
       "      <th>gas</th>\n",
       "      <td>mcf</td>\n",
       "    </tr>\n",
       "    <tr>\n",
       "      <th>nuclear</th>\n",
       "      <td>kgU</td>\n",
       "    </tr>\n",
       "    <tr>\n",
       "      <th>oil</th>\n",
       "      <td>bbl</td>\n",
       "    </tr>\n",
       "    <tr>\n",
       "      <th>other</th>\n",
       "      <td>bbl</td>\n",
       "    </tr>\n",
       "    <tr>\n",
       "      <th>waste</th>\n",
       "      <td>ton</td>\n",
       "    </tr>\n",
       "  </tbody>\n",
       "</table>\n",
       "</div>"
      ],
      "text/plain": [
       "                    fuel_unit\n",
       "fuel_type_code_pudl          \n",
       "coal                      ton\n",
       "gas                       mcf\n",
       "nuclear                   kgU\n",
       "oil                       bbl\n",
       "other                     bbl\n",
       "waste                     ton"
      ]
     },
     "execution_count": 160,
     "metadata": {},
     "output_type": "execute_result"
    }
   ],
   "source": [
    "fuel_data[[\"fuel_type_code_pudl\", \"fuel_unit\"]].groupby(\"fuel_type_code_pudl\").first() #fuel unit mode for each fuel type"
   ]
  },
  {
   "cell_type": "code",
   "execution_count": 299,
   "metadata": {},
   "outputs": [],
   "source": [
    "fuel_data.fuel_unit = fuel_data.fuel_unit.fillna(\"NaN\")\n",
    "\n",
    "fuel_units_mode = {\"coal\":\"ton\", \"gas\":\"mcf\", \"oil\":\"bbl\", \"nuclear\":\"kgU\", \"other\":\"bbl\", \"waste\":\"ton\"}\n",
    "\n",
    "for i in range(len(fuel_data[\"fuel_unit\"])):\n",
    "    if fuel_data[\"fuel_unit\"][i] == \"NaN\":\n",
    "        if fuel_data.fuel_type_code_pudl[i] in fuel_units_mode.keys():\n",
    "            fuel_data.fuel_unit[i] = fuel_units_mode[fuel_data.fuel_type_code_pudl[i]]"
   ]
  },
  {
   "cell_type": "code",
   "execution_count": 222,
   "metadata": {},
   "outputs": [
    {
     "data": {
      "text/plain": [
       "record_id                       0\n",
       "utility_id_ferc1                0\n",
       "report_year                     0\n",
       "plant_name_ferc1                0\n",
       "fuel_type_code_pudl             0\n",
       "fuel_unit                       0\n",
       "fuel_qty_burned                 0\n",
       "fuel_mmbtu_per_unit             0\n",
       "fuel_cost_per_unit_burned       0\n",
       "fuel_cost_per_unit_delivered    0\n",
       "fuel_cost_per_mmbtu             0\n",
       "dtype: int64"
      ]
     },
     "execution_count": 222,
     "metadata": {},
     "output_type": "execute_result"
    }
   ],
   "source": [
    "fuel_data.isnull().sum() # Rechecking for the null value"
   ]
  },
  {
   "cell_type": "markdown",
   "metadata": {},
   "source": [
    "##### To visualize the frequency of the fuel type in the data with a pie chart"
   ]
  },
  {
   "cell_type": "code",
   "execution_count": 143,
   "metadata": {},
   "outputs": [
    {
     "data": {
      "text/plain": [
       "<matplotlib.axes._subplots.AxesSubplot at 0x1891ede6860>"
      ]
     },
     "execution_count": 143,
     "metadata": {},
     "output_type": "execute_result"
    },
    {
     "data": {
      "image/png": "[encoded data removed]",
      "text/plain": [
       "<Figure size 360x720 with 1 Axes>"
      ]
     },
     "metadata": {},
     "output_type": "display_data"
    }
   ],
   "source": [
    "fuel_data[\"fuel_type_code_pudl\"].value_counts().plot(kind=\"pie\", figsize=(5,10), autopct=\"%.1f%%\")"
   ]
  },
  {
   "cell_type": "markdown",
   "metadata": {},
   "source": [
    "###### Gas is the most common fuel type and mcf is the most common fuel unit.\n"
   ]
  },
  {
   "cell_type": "markdown",
   "metadata": {},
   "source": [
    "##### Difference in the way the plant data were taken, visualized for the 50 largest on a pie chart"
   ]
  },
  {
   "cell_type": "code",
   "execution_count": 144,
   "metadata": {},
   "outputs": [
    {
     "data": {
      "text/plain": [
       "<matplotlib.axes._subplots.AxesSubplot at 0x1891ec11f98>"
      ]
     },
     "execution_count": 144,
     "metadata": {},
     "output_type": "execute_result"
    },
    {
     "data": {
      "image/png": "[encoded data removed]",
      "text/plain": [
       "<Figure size 576x1080 with 1 Axes>"
      ]
     },
     "metadata": {},
     "output_type": "display_data"
    }
   ],
   "source": [
    "fuel_data[\"plant_name_ferc1\"].value_counts().nlargest(20).plot(kind=\"pie\", figsize=(8,15), autopct=\"%.1f%%\")"
   ]
  },
  {
   "cell_type": "markdown",
   "metadata": {},
   "source": [
    "##### To visualize fuel type mostly burned by quantity"
   ]
  },
  {
   "cell_type": "code",
   "execution_count": 136,
   "metadata": {},
   "outputs": [
    {
     "data": {
      "text/plain": [
       "<BarContainer object of 29523 artists>"
      ]
     },
     "execution_count": 136,
     "metadata": {},
     "output_type": "execute_result"
    },
    {
     "data": {
      "image/png": "[encoded data removed]",
      "text/plain": [
       "<Figure size 432x288 with 1 Axes>"
      ]
     },
     "metadata": {
      "needs_background": "light"
     },
     "output_type": "display_data"
    }
   ],
   "source": [
    "plt.bar(fuel_data.fuel_type_code_pudl, fuel_data.fuel_qty_burned)"
   ]
  },
  {
   "cell_type": "markdown",
   "metadata": {},
   "source": [
    "##### Description of the fuel_data points"
   ]
  },
  {
   "cell_type": "code",
   "execution_count": 99,
   "metadata": {},
   "outputs": [
    {
     "data": {
      "text/html": [
       "<div>\n",
       "<style scoped>\n",
       "    .dataframe tbody tr th:only-of-type {\n",
       "        vertical-align: middle;\n",
       "    }\n",
       "\n",
       "    .dataframe tbody tr th {\n",
       "        vertical-align: top;\n",
       "    }\n",
       "\n",
       "    .dataframe thead th {\n",
       "        text-align: right;\n",
       "    }\n",
       "</style>\n",
       "<table border=\"1\" class=\"dataframe\">\n",
       "  <thead>\n",
       "    <tr style=\"text-align: right;\">\n",
       "      <th></th>\n",
       "      <th>count</th>\n",
       "      <th>unique</th>\n",
       "      <th>top</th>\n",
       "      <th>freq</th>\n",
       "      <th>mean</th>\n",
       "      <th>std</th>\n",
       "      <th>min</th>\n",
       "      <th>25%</th>\n",
       "      <th>50%</th>\n",
       "      <th>75%</th>\n",
       "      <th>max</th>\n",
       "    </tr>\n",
       "  </thead>\n",
       "  <tbody>\n",
       "    <tr>\n",
       "      <th>record_id</th>\n",
       "      <td>29523</td>\n",
       "      <td>29523</td>\n",
       "      <td>f1_fuel_2010_12_44_5_1</td>\n",
       "      <td>1</td>\n",
       "      <td>NaN</td>\n",
       "      <td>NaN</td>\n",
       "      <td>NaN</td>\n",
       "      <td>NaN</td>\n",
       "      <td>NaN</td>\n",
       "      <td>NaN</td>\n",
       "      <td>NaN</td>\n",
       "    </tr>\n",
       "    <tr>\n",
       "      <th>utility_id_ferc1</th>\n",
       "      <td>29523</td>\n",
       "      <td>NaN</td>\n",
       "      <td>NaN</td>\n",
       "      <td>NaN</td>\n",
       "      <td>118.602</td>\n",
       "      <td>74.1784</td>\n",
       "      <td>1</td>\n",
       "      <td>55</td>\n",
       "      <td>122</td>\n",
       "      <td>176</td>\n",
       "      <td>514</td>\n",
       "    </tr>\n",
       "    <tr>\n",
       "      <th>report_year</th>\n",
       "      <td>29523</td>\n",
       "      <td>NaN</td>\n",
       "      <td>NaN</td>\n",
       "      <td>NaN</td>\n",
       "      <td>2005.81</td>\n",
       "      <td>7.02548</td>\n",
       "      <td>1994</td>\n",
       "      <td>2000</td>\n",
       "      <td>2006</td>\n",
       "      <td>2012</td>\n",
       "      <td>2018</td>\n",
       "    </tr>\n",
       "    <tr>\n",
       "      <th>plant_name_ferc1</th>\n",
       "      <td>29523</td>\n",
       "      <td>2315</td>\n",
       "      <td>big stone</td>\n",
       "      <td>156</td>\n",
       "      <td>NaN</td>\n",
       "      <td>NaN</td>\n",
       "      <td>NaN</td>\n",
       "      <td>NaN</td>\n",
       "      <td>NaN</td>\n",
       "      <td>NaN</td>\n",
       "      <td>NaN</td>\n",
       "    </tr>\n",
       "    <tr>\n",
       "      <th>fuel_type_code_pudl</th>\n",
       "      <td>29523</td>\n",
       "      <td>6</td>\n",
       "      <td>gas</td>\n",
       "      <td>11486</td>\n",
       "      <td>NaN</td>\n",
       "      <td>NaN</td>\n",
       "      <td>NaN</td>\n",
       "      <td>NaN</td>\n",
       "      <td>NaN</td>\n",
       "      <td>NaN</td>\n",
       "      <td>NaN</td>\n",
       "    </tr>\n",
       "    <tr>\n",
       "      <th>fuel_unit</th>\n",
       "      <td>29523</td>\n",
       "      <td>9</td>\n",
       "      <td>mcf</td>\n",
       "      <td>11534</td>\n",
       "      <td>NaN</td>\n",
       "      <td>NaN</td>\n",
       "      <td>NaN</td>\n",
       "      <td>NaN</td>\n",
       "      <td>NaN</td>\n",
       "      <td>NaN</td>\n",
       "      <td>NaN</td>\n",
       "    </tr>\n",
       "    <tr>\n",
       "      <th>fuel_qty_burned</th>\n",
       "      <td>29523</td>\n",
       "      <td>NaN</td>\n",
       "      <td>NaN</td>\n",
       "      <td>NaN</td>\n",
       "      <td>2.62212e+06</td>\n",
       "      <td>9.118e+06</td>\n",
       "      <td>1</td>\n",
       "      <td>13817</td>\n",
       "      <td>253322</td>\n",
       "      <td>1.42403e+06</td>\n",
       "      <td>5.55894e+08</td>\n",
       "    </tr>\n",
       "    <tr>\n",
       "      <th>fuel_mmbtu_per_unit</th>\n",
       "      <td>29523</td>\n",
       "      <td>NaN</td>\n",
       "      <td>NaN</td>\n",
       "      <td>NaN</td>\n",
       "      <td>8.49211</td>\n",
       "      <td>10.6002</td>\n",
       "      <td>1e-06</td>\n",
       "      <td>1.024</td>\n",
       "      <td>5.76269</td>\n",
       "      <td>17.006</td>\n",
       "      <td>341.26</td>\n",
       "    </tr>\n",
       "    <tr>\n",
       "      <th>fuel_cost_per_unit_burned</th>\n",
       "      <td>29523</td>\n",
       "      <td>NaN</td>\n",
       "      <td>NaN</td>\n",
       "      <td>NaN</td>\n",
       "      <td>208.649</td>\n",
       "      <td>2854.49</td>\n",
       "      <td>-276.08</td>\n",
       "      <td>5.207</td>\n",
       "      <td>26</td>\n",
       "      <td>47.113</td>\n",
       "      <td>139358</td>\n",
       "    </tr>\n",
       "    <tr>\n",
       "      <th>fuel_cost_per_unit_delivered</th>\n",
       "      <td>29523</td>\n",
       "      <td>NaN</td>\n",
       "      <td>NaN</td>\n",
       "      <td>NaN</td>\n",
       "      <td>917.57</td>\n",
       "      <td>68775.9</td>\n",
       "      <td>-874.937</td>\n",
       "      <td>3.7785</td>\n",
       "      <td>17.371</td>\n",
       "      <td>42.137</td>\n",
       "      <td>7.96452e+06</td>\n",
       "    </tr>\n",
       "    <tr>\n",
       "      <th>fuel_cost_per_mmbtu</th>\n",
       "      <td>29523</td>\n",
       "      <td>NaN</td>\n",
       "      <td>NaN</td>\n",
       "      <td>NaN</td>\n",
       "      <td>19.3044</td>\n",
       "      <td>2091.54</td>\n",
       "      <td>-41.501</td>\n",
       "      <td>1.94</td>\n",
       "      <td>4.127</td>\n",
       "      <td>7.745</td>\n",
       "      <td>359278</td>\n",
       "    </tr>\n",
       "  </tbody>\n",
       "</table>\n",
       "</div>"
      ],
      "text/plain": [
       "                              count unique                     top   freq  \\\n",
       "record_id                     29523  29523  f1_fuel_2010_12_44_5_1      1   \n",
       "utility_id_ferc1              29523    NaN                     NaN    NaN   \n",
       "report_year                   29523    NaN                     NaN    NaN   \n",
       "plant_name_ferc1              29523   2315               big stone    156   \n",
       "fuel_type_code_pudl           29523      6                     gas  11486   \n",
       "fuel_unit                     29523      9                     mcf  11534   \n",
       "fuel_qty_burned               29523    NaN                     NaN    NaN   \n",
       "fuel_mmbtu_per_unit           29523    NaN                     NaN    NaN   \n",
       "fuel_cost_per_unit_burned     29523    NaN                     NaN    NaN   \n",
       "fuel_cost_per_unit_delivered  29523    NaN                     NaN    NaN   \n",
       "fuel_cost_per_mmbtu           29523    NaN                     NaN    NaN   \n",
       "\n",
       "                                     mean        std      min     25%  \\\n",
       "record_id                             NaN        NaN      NaN     NaN   \n",
       "utility_id_ferc1                  118.602    74.1784        1      55   \n",
       "report_year                       2005.81    7.02548     1994    2000   \n",
       "plant_name_ferc1                      NaN        NaN      NaN     NaN   \n",
       "fuel_type_code_pudl                   NaN        NaN      NaN     NaN   \n",
       "fuel_unit                             NaN        NaN      NaN     NaN   \n",
       "fuel_qty_burned               2.62212e+06  9.118e+06        1   13817   \n",
       "fuel_mmbtu_per_unit               8.49211    10.6002    1e-06   1.024   \n",
       "fuel_cost_per_unit_burned         208.649    2854.49  -276.08   5.207   \n",
       "fuel_cost_per_unit_delivered       917.57    68775.9 -874.937  3.7785   \n",
       "fuel_cost_per_mmbtu               19.3044    2091.54  -41.501    1.94   \n",
       "\n",
       "                                  50%          75%          max  \n",
       "record_id                         NaN          NaN          NaN  \n",
       "utility_id_ferc1                  122          176          514  \n",
       "report_year                      2006         2012         2018  \n",
       "plant_name_ferc1                  NaN          NaN          NaN  \n",
       "fuel_type_code_pudl               NaN          NaN          NaN  \n",
       "fuel_unit                         NaN          NaN          NaN  \n",
       "fuel_qty_burned                253322  1.42403e+06  5.55894e+08  \n",
       "fuel_mmbtu_per_unit           5.76269       17.006       341.26  \n",
       "fuel_cost_per_unit_burned          26       47.113       139358  \n",
       "fuel_cost_per_unit_delivered   17.371       42.137  7.96452e+06  \n",
       "fuel_cost_per_mmbtu             4.127        7.745       359278  "
      ]
     },
     "execution_count": 99,
     "metadata": {},
     "output_type": "execute_result"
    }
   ],
   "source": [
    "fuel_data.describe(include=\"all\").transpose()"
   ]
  },
  {
   "cell_type": "markdown",
   "metadata": {},
   "source": [
    "#### Counting the number of unique plants in the data"
   ]
  },
  {
   "cell_type": "code",
   "execution_count": 120,
   "metadata": {},
   "outputs": [
    {
     "data": {
      "text/plain": [
       "2315"
      ]
     },
     "execution_count": 120,
     "metadata": {},
     "output_type": "execute_result"
    }
   ],
   "source": [
    "fuel_data.plant_name_ferc1.nunique()"
   ]
  },
  {
   "cell_type": "markdown",
   "metadata": {},
   "source": [
    "### My Observation\n",
    "\n",
    "#### -There are 29523 rows in the data set and 11 features with no duplicate\n",
    "#### -There are four categorical features and seven numerical features\n",
    "#### -A very small null value point of 0.61% exist only in the fuel_unit which I replaced by the mode of the points\n",
    "#### -There are 2315 unique plants in the dataset\n",
    "#### -It appears that there is a big difference between the 75% and max value for fuel_cost_per_unit_burned, fuel_cost_per_unit_delivered & fuel_cost_per_mmbtu, this can be due to outliers in the data"
   ]
  },
  {
   "cell_type": "markdown",
   "metadata": {},
   "source": [
    "\n",
    "\n",
    "## \n",
    "##### To visualize the fuel_cost_per_unit_burned for the outliers on an histogram"
   ]
  },
  {
   "cell_type": "code",
   "execution_count": 158,
   "metadata": {},
   "outputs": [
    {
     "data": {
      "text/plain": [
       "(array([2.9406e+04, 7.0000e+00, 5.4000e+01, 3.8000e+01, 1.4000e+01,\n",
       "        2.0000e+00, 1.0000e+00, 0.0000e+00, 0.0000e+00, 1.0000e+00]),\n",
       " array([  -276.08 ,  13687.328,  27650.736,  41614.144,  55577.552,\n",
       "         69540.96 ,  83504.368,  97467.776, 111431.184, 125394.592,\n",
       "        139358.   ]),\n",
       " <a list of 10 Patch objects>)"
      ]
     },
     "execution_count": 158,
     "metadata": {},
     "output_type": "execute_result"
    },
    {
     "data": {
      "image/png": "[encoded data removed]",
      "text/plain": [
       "<Figure size 432x288 with 1 Axes>"
      ]
     },
     "metadata": {
      "needs_background": "light"
     },
     "output_type": "display_data"
    }
   ],
   "source": [
    "plt.hist(fuel_data.fuel_cost_per_unit_burned)"
   ]
  },
  {
   "cell_type": "markdown",
   "metadata": {},
   "source": [
    "##### Now, the outliers are showing. The data  forms a cluster between 0 and 20000 with the outliers spreading down to 140000 from 40000 range\n",
    "\n",
    "Dropping the highest value of the outlier"
   ]
  },
  {
   "cell_type": "code",
   "execution_count": 236,
   "metadata": {},
   "outputs": [
    {
     "data": {
      "text/html": [
       "<div>\n",
       "<style scoped>\n",
       "    .dataframe tbody tr th:only-of-type {\n",
       "        vertical-align: middle;\n",
       "    }\n",
       "\n",
       "    .dataframe tbody tr th {\n",
       "        vertical-align: top;\n",
       "    }\n",
       "\n",
       "    .dataframe thead th {\n",
       "        text-align: right;\n",
       "    }\n",
       "</style>\n",
       "<table border=\"1\" class=\"dataframe\">\n",
       "  <thead>\n",
       "    <tr style=\"text-align: right;\">\n",
       "      <th></th>\n",
       "      <th>record_id</th>\n",
       "      <th>utility_id_ferc1</th>\n",
       "      <th>report_year</th>\n",
       "      <th>plant_name_ferc1</th>\n",
       "      <th>fuel_type_code_pudl</th>\n",
       "      <th>fuel_unit</th>\n",
       "      <th>fuel_qty_burned</th>\n",
       "      <th>fuel_mmbtu_per_unit</th>\n",
       "      <th>fuel_cost_per_unit_burned</th>\n",
       "      <th>fuel_cost_per_unit_delivered</th>\n",
       "      <th>fuel_cost_per_mmbtu</th>\n",
       "    </tr>\n",
       "  </thead>\n",
       "  <tbody>\n",
       "    <tr>\n",
       "      <th>20719</th>\n",
       "      <td>f1_fuel_2011_12_132_1_2</td>\n",
       "      <td>132</td>\n",
       "      <td>2011</td>\n",
       "      <td>solway</td>\n",
       "      <td>oil</td>\n",
       "      <td>bbl</td>\n",
       "      <td>150.0</td>\n",
       "      <td>5.880000</td>\n",
       "      <td>83538.0</td>\n",
       "      <td>137.172</td>\n",
       "      <td>14.207</td>\n",
       "    </tr>\n",
       "    <tr>\n",
       "      <th>24577</th>\n",
       "      <td>f1_fuel_2014_12_177_2_7</td>\n",
       "      <td>177</td>\n",
       "      <td>2014</td>\n",
       "      <td>howard bend c.t.</td>\n",
       "      <td>oil</td>\n",
       "      <td>bbl</td>\n",
       "      <td>76.0</td>\n",
       "      <td>5.984286</td>\n",
       "      <td>80459.0</td>\n",
       "      <td>0.000</td>\n",
       "      <td>13.445</td>\n",
       "    </tr>\n",
       "    <tr>\n",
       "      <th>25127</th>\n",
       "      <td>f1_fuel_2014_12_147_0_2</td>\n",
       "      <td>147</td>\n",
       "      <td>2014</td>\n",
       "      <td>san juan</td>\n",
       "      <td>oil</td>\n",
       "      <td>bbl</td>\n",
       "      <td>49418.0</td>\n",
       "      <td>6.172572</td>\n",
       "      <td>139358.0</td>\n",
       "      <td>136410.000</td>\n",
       "      <td>22.577</td>\n",
       "    </tr>\n",
       "  </tbody>\n",
       "</table>\n",
       "</div>"
      ],
      "text/plain": [
       "                     record_id  utility_id_ferc1  report_year  \\\n",
       "20719  f1_fuel_2011_12_132_1_2               132         2011   \n",
       "24577  f1_fuel_2014_12_177_2_7               177         2014   \n",
       "25127  f1_fuel_2014_12_147_0_2               147         2014   \n",
       "\n",
       "       plant_name_ferc1 fuel_type_code_pudl fuel_unit  fuel_qty_burned  \\\n",
       "20719            solway                 oil       bbl            150.0   \n",
       "24577  howard bend c.t.                 oil       bbl             76.0   \n",
       "25127          san juan                 oil       bbl          49418.0   \n",
       "\n",
       "       fuel_mmbtu_per_unit  fuel_cost_per_unit_burned  \\\n",
       "20719             5.880000                    83538.0   \n",
       "24577             5.984286                    80459.0   \n",
       "25127             6.172572                   139358.0   \n",
       "\n",
       "       fuel_cost_per_unit_delivered  fuel_cost_per_mmbtu  \n",
       "20719                       137.172               14.207  \n",
       "24577                         0.000               13.445  \n",
       "25127                    136410.000               22.577  "
      ]
     },
     "execution_count": 236,
     "metadata": {},
     "output_type": "execute_result"
    }
   ],
   "source": [
    "fuel_data[fuel_data[\"fuel_cost_per_unit_burned\"]>80000] "
   ]
  },
  {
   "cell_type": "code",
   "execution_count": 237,
   "metadata": {},
   "outputs": [],
   "source": [
    "fuel_data.drop([25127], inplace=True) ##I dropped the higest value of the outliers and visualize again"
   ]
  },
  {
   "cell_type": "markdown",
   "metadata": {},
   "source": [
    "#\n",
    "\n",
    "# Solutions to the quiz questions "
   ]
  },
  {
   "cell_type": "markdown",
   "metadata": {},
   "source": [
    "### Question:\n",
    "#### Which of the following fuel type code has the lowest average fuel cost per unit burned?\n",
    "\n",
    "Answer is *gas* as shown below"
   ]
  },
  {
   "cell_type": "code",
   "execution_count": 405,
   "metadata": {},
   "outputs": [
    {
     "data": {
      "text/plain": [
       "'gas'"
      ]
     },
     "execution_count": 405,
     "metadata": {},
     "output_type": "execute_result"
    }
   ],
   "source": [
    "average_cost = fuel_data.groupby(\"fuel_type_code_pudl\")[\"fuel_cost_per_unit_burned\"].mean().sort_values().reset_index()\n",
    "average_cost.at[0, \"fuel_type_code_pudl\"]"
   ]
  },
  {
   "cell_type": "markdown",
   "metadata": {},
   "source": [
    "### Question:\n",
    "\n",
    "#### What is the standard deviation and 75th percentile of the measure of energy per unit (Fuel_mmbtu_per_unit) in two decimal places?\n"
   ]
  },
  {
   "cell_type": "code",
   "execution_count": 275,
   "metadata": {},
   "outputs": [
    {
     "name": "stdout",
     "output_type": "stream",
     "text": [
      "The std of Fuel_mmbtu_per_unit is 10.60\n",
      "The 75th percentile of Fuel_mmbtu_per_unit is 17.01\n"
     ]
    }
   ],
   "source": [
    "print(\"The std of Fuel_mmbtu_per_unit is {:.2f}\".format(fuel_data.fuel_mmbtu_per_unit.std()))\n",
    "print(\"The 75th percentile of Fuel_mmbtu_per_unit is {:.2f}\".format(fuel_data.fuel_mmbtu_per_unit.quantile(0.75)))"
   ]
  },
  {
   "cell_type": "markdown",
   "metadata": {},
   "source": [
    "### Question:\n",
    "\n",
    "#### What is the skewness and kurtosis for the fuel quantity burned in two decimal places?\n"
   ]
  },
  {
   "cell_type": "code",
   "execution_count": 308,
   "metadata": {},
   "outputs": [
    {
     "name": "stdout",
     "output_type": "stream",
     "text": [
      "The skewness is 15.85\n",
      "The kurtosis is 651.37\n"
     ]
    }
   ],
   "source": [
    "print(\"The skewness is {:.2f}\" .format(fuel_data.fuel_qty_burned.skew()))\n",
    "print(\"The kurtosis is {:.2f}\" .format(fuel_data.fuel_qty_burned.kurtosis()))"
   ]
  },
  {
   "cell_type": "markdown",
   "metadata": {},
   "source": [
    "### Question:\n",
    "#### Which feature has missing values and what is the total number of missing value and percentage of the missing rows as a factor of the total number of rows in three decimal places? (Enter answer in the format: Feature: xxx, Total: xxx, Percent: xxx)\n",
    "\n",
    "\n",
    "#### Answer: From the above analysis,\n",
    "#### Feature: fuel_unit, Total: 180, Percent: 0.601%\n",
    "\n",
    "\n",
    "#"
   ]
  },
  {
   "cell_type": "markdown",
   "metadata": {},
   "source": [
    "### Question: \n",
    "#### The feature with missing values falls under what category? What missing value imputation technique would you use?\n",
    "\n",
    "\n",
    "#### Answer: From the above analysis;\n",
    "#### The feature is Categorical and the imputation is by mode"
   ]
  },
  {
   "cell_type": "markdown",
   "metadata": {},
   "source": [
    "#\n",
    "\n",
    "### Question:\n",
    "#### Which of the features has the second and third lowest correlation with the Fuel Cost Per Unit Burned?\n",
    "\n",
    "\n",
    "#### Answer is fuel_mmbtu_per_unit and fuel_cost_per_unit_delivered"
   ]
  },
  {
   "cell_type": "code",
   "execution_count": 383,
   "metadata": {
    "scrolled": true
   },
   "outputs": [
    {
     "data": {
      "text/html": [
       "<div>\n",
       "<style scoped>\n",
       "    .dataframe tbody tr th:only-of-type {\n",
       "        vertical-align: middle;\n",
       "    }\n",
       "\n",
       "    .dataframe tbody tr th {\n",
       "        vertical-align: top;\n",
       "    }\n",
       "\n",
       "    .dataframe thead th {\n",
       "        text-align: right;\n",
       "    }\n",
       "</style>\n",
       "<table border=\"1\" class=\"dataframe\">\n",
       "  <thead>\n",
       "    <tr style=\"text-align: right;\">\n",
       "      <th></th>\n",
       "      <th>index</th>\n",
       "      <th>fuel_cost_per_unit_burned</th>\n",
       "    </tr>\n",
       "  </thead>\n",
       "  <tbody>\n",
       "    <tr>\n",
       "      <th>1</th>\n",
       "      <td>fuel_mmbtu_per_unit</td>\n",
       "      <td>0.010034</td>\n",
       "    </tr>\n",
       "    <tr>\n",
       "      <th>2</th>\n",
       "      <td>fuel_cost_per_unit_delivered</td>\n",
       "      <td>0.011007</td>\n",
       "    </tr>\n",
       "  </tbody>\n",
       "</table>\n",
       "</div>"
      ],
      "text/plain": [
       "                          index  fuel_cost_per_unit_burned\n",
       "1           fuel_mmbtu_per_unit                   0.010034\n",
       "2  fuel_cost_per_unit_delivered                   0.011007"
      ]
     },
     "execution_count": 383,
     "metadata": {},
     "output_type": "execute_result"
    }
   ],
   "source": [
    "correlation = fuel_data.corr()[\"fuel_cost_per_unit_burned\"].abs().sort_values().reset_index()\n",
    "correlation[1:3]"
   ]
  },
  {
   "cell_type": "markdown",
   "metadata": {},
   "source": [
    "### Question:\n",
    "#### For the fuel type coal, what is the percentage change in the fuel cost per unit burned in 1998 compared to 1994?"
   ]
  },
  {
   "cell_type": "code",
   "execution_count": 399,
   "metadata": {},
   "outputs": [
    {
     "data": {
      "text/plain": [
       "-21.0"
      ]
     },
     "execution_count": 399,
     "metadata": {},
     "output_type": "execute_result"
    }
   ],
   "source": [
    "yearly_fuel_cost = fuel_data.groupby([\"fuel_type_code_pudl\",\"report_year\"])[\"fuel_cost_per_unit_burned\"].sum().reset_index()\n",
    "percent_change = (yearly_fuel_cost.at[4, \"fuel_cost_per_unit_burned\"] - yearly_fuel_cost.at[0, \"fuel_cost_per_unit_burned\"])/yearly_fuel_cost.at[0, \"fuel_cost_per_unit_burned\"]\n",
    "\n",
    "round(percent_change*100,0)"
   ]
  },
  {
   "cell_type": "markdown",
   "metadata": {},
   "source": [
    "### Question:\n",
    "#### Which year has the highest average fuel cost per unit delivered?"
   ]
  },
  {
   "cell_type": "code",
   "execution_count": 371,
   "metadata": {},
   "outputs": [
    {
     "name": "stdout",
     "output_type": "stream",
     "text": [
      "The year is 1997\n"
     ]
    }
   ],
   "source": [
    "df_average = fuel_data.groupby(\"report_year\")[\"fuel_cost_per_unit_delivered\"].mean().sort_values().reset_index()\n",
    "print(\"The year is\", df_average.iloc[len(df_average)-1,0])"
   ]
  },
  {
   "cell_type": "code",
   "execution_count": null,
   "metadata": {},
   "outputs": [],
   "source": []
  }
 ],
 "metadata": {
  "kernelspec": {
   "display_name": "Python 3",
   "language": "python",
   "name": "python3"
  },
  "language_info": {
   "codemirror_mode": {
    "name": "ipython",
    "version": 3
   },
   "file_extension": ".py",
   "mimetype": "text/x-python",
   "name": "python",
   "nbconvert_exporter": "python",
   "pygments_lexer": "ipython3",
   "version": "3.6.10"
  }
 },
 "nbformat": 4,
 "nbformat_minor": 4
}
